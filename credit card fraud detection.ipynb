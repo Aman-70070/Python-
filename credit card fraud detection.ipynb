{
 "cells": [
  {
   "cell_type": "markdown",
   "id": "544d3b8c-4842-4746-86d5-1c507efc5719",
   "metadata": {},
   "source": [
    "\r\n",
    "Problem Statement:\r\n",
    "1. A credit card is a small thin plastic or fiber card that incorporates\r\n",
    "information about the person such as a picture or signature and the\r\n",
    "person’s name on it to charge purchases and services to his linked\r\n",
    "account. Charges are debited regularly. Nowadays, card data is read by\r\n",
    "ATMs, swiping machines, store readers, banks and online transactions.\r\n",
    "2. Each card has a unique card number which is very important. Its security\r\n",
    "mainly relies on the physical security of the card and also the privacy of the\r\n",
    "credit card number. There is a rapid growth in credit card transactions\r\n",
    "which has led to substantial growth in scam cases.\r\n",
    "3. Credit card fraud is expanding heavily because fraud financial loss is\r\n",
    "increasing drastically. Multiple data mining and statistical techniques are\r\n",
    "used to catch fraud. Therefore the detection of fraud using efficient and\r\n",
    "secured methods are very important methods are very important."
   ]
  },
  {
   "cell_type": "markdown",
   "id": "d8fd8f78-b641-4161-a086-56398ad0791b",
   "metadata": {},
   "source": [
    "Tasks To Be Performed:\r\n",
    "1. Load the dataset using the pandas module.\r\n",
    "2. Perform missing value analysis on the dataset.\r\n",
    "3. From the dataset, calculate the number of genuine transactions, number of\r\n",
    "fraud transactions and the percentage of fraud transactions.\r\n",
    "4. Using the visualization module, visualize the genuine and fraudulent\r\n",
    "transactions using a bar graph.\r\n",
    "5. Using the Standard Scaler module, normalize the amount column and\r\n",
    "store the new values in the NormalizedAmount column.\r\n",
    "6. Split the dataset in train and test set and have a 70:30 split ratio for the\r\n",
    "model.\r\n",
    "7. Now use a decision tree and random forest model for training on top of the\r\n",
    "train set.\r\n",
    "8. Compare the predictions of both models using predict().\r\n",
    "9. Compare the accuracy of both models using score().\r\n",
    "10. Check the performance matrix of both models and compare which\r\n",
    "model is having the highest performance."
   ]
  },
  {
   "cell_type": "code",
   "execution_count": null,
   "id": "3391c7f4-e078-4556-a54f-3b127412478f",
   "metadata": {},
   "outputs": [],
   "source": [
    "1. import pandas as pd\n",
    "df = pd.read_csv('creditcard.csv')\n"
   ]
  },
  {
   "cell_type": "code",
   "execution_count": null,
   "id": "56509aba-47b9-427c-888f-49664546ed29",
   "metadata": {},
   "outputs": [],
   "source": [
    "2. df.isnull().sum()\n"
   ]
  },
  {
   "cell_type": "code",
   "execution_count": null,
   "id": "818bb6f0-447c-4d31-aa46-6aac2058cbdd",
   "metadata": {},
   "outputs": [],
   "source": [
    "3. genuine_transactions = len(df[df['Class'] == 0])\n",
    "fraud_transactions = len(df[df['Class'] == 1])\n",
    "fraud_percentage = (fraud_transactions / len(df)) * 100\n"
   ]
  },
  {
   "cell_type": "code",
   "execution_count": null,
   "id": "34820a98-a2f0-4760-af67-ef9686176848",
   "metadata": {},
   "outputs": [],
   "source": [
    "4. import matplotlib.pyplot as plt\n",
    "plt.bar(['Genuine', 'Fraud'], [genuine_transactions, fraud_transactions])\n",
    "plt.show()\n"
   ]
  },
  {
   "cell_type": "code",
   "execution_count": null,
   "id": "33e64688-b6dc-4064-ac78-181540245e27",
   "metadata": {},
   "outputs": [],
   "source": [
    "5. from sklearn.preprocessing import StandardScaler\n",
    "scaler = StandardScaler()\n",
    "df['NormalizedAmount'] = scaler.fit_transform(df['Amount'].values.reshape(-1,1))\n"
   ]
  },
  {
   "cell_type": "code",
   "execution_count": null,
   "id": "44e94d5e-2446-4f1e-b02d-bf64fa457188",
   "metadata": {},
   "outputs": [],
   "source": [
    "6. from sklearn.model_selection import train_test_split\n",
    "X = df.drop(columns=['Class'])\n",
    "y = df['Class']\n",
    "X_train, X_test, y_train, y_test = train_test_split(X, y, test_size=0.3, random_state=42)\n"
   ]
  },
  {
   "cell_type": "code",
   "execution_count": null,
   "id": "5931ab6e-51fe-42e4-895d-bba6d4e806d7",
   "metadata": {},
   "outputs": [],
   "source": [
    "7. from sklearn.tree import DecisionTreeClassifier\n",
    "from sklearn.ensemble import RandomForestClassifier\n",
    "\n",
    "dt_model = DecisionTreeClassifier()\n",
    "rf_model = RandomForestClassifier()\n",
    "\n",
    "dt_model.fit(X_train, y_train)\n",
    "rf_model.fit(X_train, y_train)\n"
   ]
  },
  {
   "cell_type": "code",
   "execution_count": null,
   "id": "20a6eb2c-0001-4079-b70c-2615a39a0667",
   "metadata": {},
   "outputs": [],
   "source": [
    "8. dt_preds = dt_model.predict(X_test)\n",
    "rf_preds = rf_model.predict(X_test)\n"
   ]
  },
  {
   "cell_type": "code",
   "execution_count": null,
   "id": "00993db2-69e4-4c39-976c-f0511bae1831",
   "metadata": {},
   "outputs": [],
   "source": [
    "9. dt_accuracy = dt_model.score(X_test, y_test)\n",
    "rf_accuracy = rf_model.score(X_test, y_test)\n"
   ]
  },
  {
   "cell_type": "code",
   "execution_count": null,
   "id": "d53df187-fb9f-4ae2-9db4-22babf20c109",
   "metadata": {},
   "outputs": [],
   "source": [
    "10. from sklearn.metrics import classification_report, confusion_matrix\n",
    "\n",
    "dt_report = classification_report(y_test, dt_preds)\n",
    "rf_report = classification_report(y_test, rf_preds)\n"
   ]
  },
  {
   "cell_type": "code",
   "execution_count": null,
   "id": "abcfe166-20a1-4dcc-8a18-5b3c6e0b4997",
   "metadata": {},
   "outputs": [],
   "source": []
  },
  {
   "cell_type": "code",
   "execution_count": null,
   "id": "448d402f-0cc5-4583-bd2a-a88911b35151",
   "metadata": {},
   "outputs": [],
   "source": []
  }
 ],
 "metadata": {
  "kernelspec": {
   "display_name": "Python 3 (ipykernel)",
   "language": "python",
   "name": "python3"
  },
  "language_info": {
   "codemirror_mode": {
    "name": "ipython",
    "version": 3
   },
   "file_extension": ".py",
   "mimetype": "text/x-python",
   "name": "python",
   "nbconvert_exporter": "python",
   "pygments_lexer": "ipython3",
   "version": "3.11.7"
  }
 },
 "nbformat": 4,
 "nbformat_minor": 5
}
